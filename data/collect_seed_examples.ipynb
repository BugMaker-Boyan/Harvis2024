{
 "cells": [
  {
   "cell_type": "code",
   "execution_count": 3,
   "metadata": {},
   "outputs": [],
   "source": [
    "import json\n",
    "import copy\n",
    "import random\n",
    "\n",
    "seed_examples = []\n",
    "all_data = []"
   ]
  },
  {
   "cell_type": "code",
   "execution_count": 4,
   "metadata": {},
   "outputs": [],
   "source": [
    "data = {\n",
    "    'Student_ID': [1, 2, 3, 4, 5],\n",
    "    'Age': [16, 17, 15, 16, 18],\n",
    "    'Gender': ['Male', 'Female', 'Male', 'Female', 'Non-binary'],\n",
    "    'Grade_Level': ['10th Grade', '11th Grade', '9th Grade', '10th Grade', '12th Grade'],\n",
    "    'GPA': [3.8, 3.5, 3.9, 3.6, 4.0],\n",
    "    'Favorite_Subject': ['Math', 'English', 'Science', 'History', 'Computer Science'],\n",
    "    'Hours_Studied_Per_Week': [15, 12, 18, 10, 20],\n",
    "    'Extracurricular_Activity': ['Soccer', 'Debate Club', 'Music Band', 'Drama Club', 'Robotics Club'],\n",
    "    'Activity_Hours_Per_Week': [6, 4, 8, 5, 7],\n",
    "    'School_Region': ['North America', 'Europe', 'Asia', 'South America', 'Africa']\n",
    "}\n",
    "\n",
    "all_data.append(data)"
   ]
  },
  {
   "cell_type": "code",
   "execution_count": 5,
   "metadata": {},
   "outputs": [],
   "source": [
    "transportation_data = {\n",
    "    'Vehicle_ID': [101, 102, 103, 104, 105],\n",
    "    'Type': ['Car', 'Bicycle', 'Bus', 'Car', 'Bicycle'],\n",
    "    'Manufacturer': ['Toyota', 'Giant', 'Volvo', 'Honda', 'Trek'],\n",
    "    'Model': ['Corolla', 'Defy', '7900', 'Civic', 'Domane'],\n",
    "    'Year': [2018, 2021, 2017, 2019, 2020],\n",
    "    'Fuel_Type': ['Petrol', 'None', 'Diesel', 'Petrol', 'None'],\n",
    "    'Mileage_km': [30000, 1500, 50000, 25000, 2000],\n",
    "    'Owner_Age': [35, 28, 45, 40, 32],\n",
    "    'Owner_Gender': ['Male', 'Female', 'Male', 'Female', 'Non-binary'],\n",
    "    'Region': ['North America', 'Europe', 'Asia', 'South America', 'Africa']\n",
    "}\n",
    "\n",
    "all_data.append(transportation_data)"
   ]
  },
  {
   "cell_type": "code",
   "execution_count": 6,
   "metadata": {},
   "outputs": [],
   "source": [
    "finance_data = {\n",
    "    'Transaction_ID': [1001, 1002, 1003, 1004, 1005],\n",
    "    'Date': ['2024-01-10', '2024-02-15', '2024-03-20', '2024-04-25', '2024-05-30'],\n",
    "    'Account_Type': ['Savings', 'Checking', 'Savings', 'Investment', 'Checking'],\n",
    "    'Amount': [2500, 1200, 1500, 5000, 800],\n",
    "    'Currency': ['USD', 'USD', 'EUR', 'USD', 'EUR'],\n",
    "    'Transaction_Type': ['Deposit', 'Withdrawal', 'Deposit', 'Deposit', 'Withdrawal'],\n",
    "    'Account_Holder_Age': [30, 45, 28, 50, 35],\n",
    "    'Account_Holder_Gender': ['Male', 'Female', 'Male', 'Female', 'Non-binary'],\n",
    "    'Bank_Branch': ['New York', 'Los Angeles', 'Berlin', 'Chicago', 'Paris']\n",
    "}\n",
    "\n",
    "all_data.append(finance_data)"
   ]
  },
  {
   "cell_type": "code",
   "execution_count": 7,
   "metadata": {},
   "outputs": [],
   "source": [
    "data = {\n",
    "    'Student_ID': [1, 2, 3, 4, 5],\n",
    "    'Age': [16, 17, 15, 16, 18],\n",
    "    'Gender': ['Male', 'Female', 'Male', 'Female', 'Non-binary'],\n",
    "    'Grade_Level': ['10th Grade', '11th Grade', '9th Grade', '10th Grade', '12th Grade'],\n",
    "    'GPA': [3.8, 3.5, 3.9, 3.6, 4.0],\n",
    "    'Favorite_Subject': ['Math', 'English', 'Science', 'History', 'Computer Science'],\n",
    "    'Hours_Studied_Per_Week': [15, 12, 18, 10, 20],\n",
    "    'Extracurricular_Activity': ['Soccer', 'Debate Club', 'Music Band', 'Drama Club', 'Robotics Club'],\n",
    "    'Activity_Hours_Per_Week': [6, 4, 8, 5, 7],\n",
    "    'School_Region': ['North America', 'Europe', 'Asia', 'South America', 'Africa']\n",
    "}\n",
    "\n",
    "all_data.append(data)"
   ]
  },
  {
   "cell_type": "code",
   "execution_count": 8,
   "metadata": {},
   "outputs": [],
   "source": [
    "ecommerce_data = {\n",
    "    'Order_ID': [2001, 2002, 2003, 2004, 2005],\n",
    "    'Customer_ID': [501, 502, 503, 504, 505],\n",
    "    'Order_Date': ['2024-06-01', '2024-06-02', '2024-06-03', '2024-06-04', '2024-06-05'],\n",
    "    'Product_Category': ['Electronics', 'Clothing', 'Books', 'Electronics', 'Clothing'],\n",
    "    'Product_Name': ['Smartphone', 'T-Shirt', 'Novel', 'Laptop', 'Jeans'],\n",
    "    'Quantity': [1, 3, 2, 1, 2],\n",
    "    'Price_Per_Unit': [700, 20, 15, 1200, 40],\n",
    "    'Total_Price': [700, 60, 30, 1200, 80],\n",
    "    'Payment_Method': ['Credit Card', 'PayPal', 'Credit Card', 'Debit Card', 'PayPal'],\n",
    "    'Shipping_Cost': [10, 5, 3, 15, 5]\n",
    "}\n",
    "all_data.append(ecommerce_data)"
   ]
  },
  {
   "cell_type": "code",
   "execution_count": 9,
   "metadata": {},
   "outputs": [],
   "source": [
    "hotel_data = {\n",
    "    'Booking_ID': [3001, 3002, 3003, 3004, 3005],\n",
    "    'Customer_ID': [601, 602, 603, 604, 605],\n",
    "    'Check_In_Date': ['2024-07-01', '2024-07-02', '2024-07-03', '2024-07-04', '2024-07-05'],\n",
    "    'Check_Out_Date': ['2024-07-05', '2024-07-06', '2024-07-07', '2024-07-08', '2024-07-09'],\n",
    "    'Room_Type': ['Single', 'Double', 'Suite', 'Single', 'Double'],\n",
    "    'Number_of_Nights': [4, 4, 4, 4, 4],\n",
    "    'Price_Per_Night': [100, 150, 300, 100, 150],\n",
    "    'Total_Cost': [400, 600, 1200, 400, 600],\n",
    "    'Payment_Method': ['Credit Card', 'Debit Card', 'PayPal', 'Credit Card', 'Debit Card'],\n",
    "    'Customer_Age': [30, 45, 28, 50, 35],\n",
    "    'Customer_Gender': ['Male', 'Female', 'Male', 'Female', 'Non-binary']\n",
    "}\n",
    "all_data.append(hotel_data)"
   ]
  },
  {
   "cell_type": "code",
   "execution_count": 10,
   "metadata": {},
   "outputs": [],
   "source": [
    "real_estate_data = {\n",
    "    'Property_ID': [4001, 4002, 4003, 4004, 4005],\n",
    "    'Location': ['New York', 'Los Angeles', 'Chicago', 'Houston', 'Phoenix'],\n",
    "    'Property_Type': ['Apartment', 'House', 'Apartment', 'House', 'Apartment'],\n",
    "    'Bedrooms': [2, 3, 1, 4, 2],\n",
    "    'Bathrooms': [1, 2, 1, 3, 2],\n",
    "    'Square_Feet': [850, 1200, 600, 2000, 950],\n",
    "    'Price_USD': [750000, 850000, 400000, 1200000, 650000],\n",
    "    'Listing_Date': ['2024-06-01', '2024-06-05', '2024-06-10', '2024-06-15', '2024-06-20'],\n",
    "    'Agent_Name': ['John Doe', 'Jane Smith', 'Tom Johnson', 'Emily Davis', 'Michael Brown'],\n",
    "    'Agent_Contact': ['john@example.com', 'jane@example.com', 'tom@example.com', 'emily@example.com', 'michael@example.com']\n",
    "}\n",
    "all_data.append(real_estate_data)"
   ]
  },
  {
   "cell_type": "code",
   "execution_count": 11,
   "metadata": {},
   "outputs": [],
   "source": [
    "sports_data = {\n",
    "    'Athlete_ID': [5001, 5002, 5003, 5004, 5005],\n",
    "    'Name': ['Alice Smith', 'Bob Johnson', 'Charlie Brown', 'Daisy Miller', 'Ethan Davis'],\n",
    "    'Age': [23, 28, 21, 25, 27],\n",
    "    'Gender': ['Female', 'Male', 'Male', 'Female', 'Male'],\n",
    "    'Sport': ['Tennis', 'Basketball', 'Swimming', 'Soccer', 'Running'],\n",
    "    'Event': ['Singles', 'Point Guard', '100m Freestyle', 'Forward', 'Marathon'],\n",
    "    'Country': ['USA', 'Canada', 'UK', 'Australia', 'Kenya'],\n",
    "    'Personal_Best_Time': [2.1, 12.3, 50.5, 4.8, 122.4],\n",
    "    'Medals_Won': [3, 5, 2, 4, 6],\n",
    "    'Coach_Name': ['John Doe', 'Jane Smith', 'Tom Johnson', 'Emily Davis', 'Michael Brown']\n",
    "}\n",
    "all_data.append(sports_data)"
   ]
  },
  {
   "cell_type": "code",
   "execution_count": 12,
   "metadata": {},
   "outputs": [],
   "source": [
    "startup_data = {\n",
    "    'Company_ID': [6001, 6002, 6003, 6004, 6005],\n",
    "    'Company_Name': ['Tech Innovators', 'Health Solutions', 'EduTech', 'Green Energy', 'FinTech Ventures'],\n",
    "    'Founding_Year': [2015, 2018, 2016, 2017, 2019],\n",
    "    'Industry': ['Technology', 'Healthcare', 'Education', 'Energy', 'Finance'],\n",
    "    'Employees': [50, 80, 30, 60, 40],\n",
    "    'Annual_Revenue_Million_USD': [10, 15, 8, 20, 12],\n",
    "    'Funding_Stage': ['Series A', 'Series B', 'Seed', 'Series C', 'Series A'],\n",
    "    'Headquarters_Location': ['San Francisco', 'New York', 'London', 'Berlin', 'Singapore'],\n",
    "    'CEO_Name': ['Alice White', 'Bob Green', 'Charlie Black', 'Daisy Blue', 'Ethan Red']\n",
    "}\n",
    "all_data.append(startup_data)"
   ]
  },
  {
   "cell_type": "code",
   "execution_count": 13,
   "metadata": {},
   "outputs": [],
   "source": [
    "retail_data = {\n",
    "    'Product_ID': [7001, 7002, 7003, 7004, 7005],\n",
    "    'Product_Name': ['Laptop', 'Smartphone', 'Headphones', 'Smartwatch', 'Tablet'],\n",
    "    'Category': ['Electronics', 'Electronics', 'Accessories', 'Electronics', 'Electronics'],\n",
    "    'Price_USD': [1200, 800, 150, 300, 500],\n",
    "    'Units_Sold': [150, 200, 300, 100, 180],\n",
    "    'Revenue_USD': [180000, 160000, 45000, 30000, 90000],\n",
    "    'Store_Location': ['New York', 'Los Angeles', 'Chicago', 'Houston', 'Phoenix'],\n",
    "    'Sales_Date': ['2024-06-01', '2024-06-02', '2024-06-03', '2024-06-04', '2024-06-05'],\n",
    "    'Sales_Person': ['John Doe', 'Jane Smith', 'Tom Johnson', 'Emily Davis', 'Michael Brown']\n",
    "}\n",
    "all_data.append(retail_data)"
   ]
  },
  {
   "cell_type": "code",
   "execution_count": 14,
   "metadata": {},
   "outputs": [],
   "source": [
    "movie_data = {\n",
    "    'Movie_ID': [8001, 8002, 8003, 8004, 8005],\n",
    "    'Title': ['The Great Adventure', 'Romantic Escape', 'Mystery Night', 'Sci-Fi Universe', 'Comedy Central'],\n",
    "    'Genre': ['Adventure', 'Romance', 'Mystery', 'Sci-Fi', 'Comedy'],\n",
    "    'Release_Year': [2020, 2019, 2021, 2022, 2018],\n",
    "    'Duration_Minutes': [120, 90, 110, 130, 95],\n",
    "    'Rating': [8.5, 7.8, 8.0, 7.5, 6.9],\n",
    "    'Box_Office_Million_USD': [300, 150, 200, 350, 100],\n",
    "    'Director': ['Alice Johnson', 'Bob Smith', 'Charlie Lee', 'Diana King', 'Ethan White'],\n",
    "    'Lead_Actor': ['John Doe', 'Jane Smith', 'Tom Johnson', 'Emily Davis', 'Michael Brown']\n",
    "}\n",
    "all_data.append(movie_data)"
   ]
  },
  {
   "cell_type": "code",
   "execution_count": 15,
   "metadata": {},
   "outputs": [],
   "source": [
    "travel_data = {\n",
    "    'Destination_ID': [9001, 9002, 9003, 9004, 9005],\n",
    "    'Destination_Name': ['Paris', 'Tokyo', 'New York', 'Sydney', 'Cape Town'],\n",
    "    'Country': ['France', 'Japan', 'USA', 'Australia', 'South Africa'],\n",
    "    'Continent': ['Europe', 'Asia', 'North America', 'Australia', 'Africa'],\n",
    "    'Average_Cost_USD': [2000, 2500, 3000, 2200, 1800],\n",
    "    'Average_Days_Stay': [7, 8, 5, 10, 6],\n",
    "    'Main_Attraction': ['Eiffel Tower', 'Mount Fuji', 'Statue of Liberty', 'Sydney Opera House', 'Table Mountain'],\n",
    "    'Best_Season': ['Spring', 'Autumn', 'Winter', 'Summer', 'Spring'],\n",
    "    'Visitor_Rating': [9.0, 8.5, 9.5, 8.0, 8.8],\n",
    "    'Number_of_Visitors_Million': [19, 15, 13, 10, 5]\n",
    "}\n",
    "all_data.append(travel_data)"
   ]
  },
  {
   "cell_type": "code",
   "execution_count": 16,
   "metadata": {},
   "outputs": [],
   "source": [
    "healthcare_data = {\n",
    "    'Patient_ID': [1001, 1002, 1003, 1004, 1005],\n",
    "    'Name': ['John Smith', 'Emma Johnson', 'Liam Brown', 'Olivia Davis', 'Ava Wilson'],\n",
    "    'Age': [34, 29, 45, 38, 50],\n",
    "    'Gender': ['Male', 'Female', 'Male', 'Female', 'Female'],\n",
    "    'Condition': ['Diabetes', 'Hypertension', 'Asthma', 'Arthritis', 'Heart Disease'],\n",
    "    'Treatment': ['Insulin', 'Beta Blockers', 'Inhaler', 'Pain Relievers', 'Statins'],\n",
    "    'Doctor': ['Dr. Adams', 'Dr. Baker', 'Dr. Clark', 'Dr. Davis', 'Dr. Evans'],\n",
    "    'Hospital': ['City Hospital', 'General Hospital', 'Community Clinic', 'City Hospital', 'General Hospital'],\n",
    "    'Visit_Date': ['2024-06-01', '2024-06-02', '2024-06-03', '2024-06-04', '2024-06-05'],\n",
    "    'Next_Visit_Date': ['2024-07-01', '2024-07-02', '2024-07-03', '2024-07-04', '2024-07-05']\n",
    "}\n",
    "all_data.append(healthcare_data)"
   ]
  },
  {
   "cell_type": "code",
   "execution_count": 17,
   "metadata": {},
   "outputs": [],
   "source": [
    "education_data = {\n",
    "    'Student_ID': [1101, 1102, 1103, 1104, 1105],\n",
    "    'Name': ['Alice Brown', 'Brian Clark', 'Catherine Green', 'Daniel Harris', 'Eva Johnson'],\n",
    "    'Age': [16, 17, 16, 18, 17],\n",
    "    'Gender': ['Female', 'Male', 'Female', 'Male', 'Female'],\n",
    "    'Grade_Level': ['10th', '11th', '10th', '12th', '11th'],\n",
    "    'Math_Score': [85, 90, 88, 92, 87],\n",
    "    'English_Score': [78, 85, 82, 88, 90],\n",
    "    'Science_Score': [92, 88, 91, 90, 89],\n",
    "    'History_Score': [80, 84, 86, 87, 85],\n",
    "    'GPA': [3.8, 3.9, 3.85, 4.0, 3.9],\n",
    "    'Extracurricular_Activity': ['Basketball', 'Debate Club', 'Music Band', 'Student Council', 'Drama Club']\n",
    "}\n",
    "all_data.append(education_data)"
   ]
  },
  {
   "cell_type": "code",
   "execution_count": 18,
   "metadata": {},
   "outputs": [],
   "source": [
    "investment_data = {\n",
    "    'Investor_ID': [1201, 1202, 1203, 1204, 1205],\n",
    "    'Name': ['Oliver Smith', 'Sophia Johnson', 'Liam Brown', 'Emma Davis', 'Noah Wilson'],\n",
    "    'Age': [45, 38, 50, 42, 35],\n",
    "    'Gender': ['Male', 'Female', 'Male', 'Female', 'Male'],\n",
    "    'Portfolio_Value_USD': [500000, 300000, 750000, 400000, 600000],\n",
    "    'Stocks_Percentage': [60, 50, 70, 55, 65],\n",
    "    'Bonds_Percentage': [25, 30, 20, 35, 25],\n",
    "    'Real_Estate_Percentage': [10, 15, 5, 5, 5],\n",
    "    'Other_Investments_Percentage': [5, 5, 5, 5, 5],\n",
    "    'Annual_Return_Percentage': [8, 7, 9, 7.5, 8.5],\n",
    "    'Risk_Level': ['Medium', 'Low', 'High', 'Medium', 'Medium']\n",
    "}\n",
    "all_data.append(investment_data)"
   ]
  },
  {
   "cell_type": "code",
   "execution_count": 19,
   "metadata": {},
   "outputs": [],
   "source": [
    "marketing_data = {\n",
    "    'Campaign_ID': [1301, 1302, 1303, 1304, 1305],\n",
    "    'Campaign_Name': ['Spring Sale', 'Summer Discounts', 'Back to School', 'Holiday Offers', 'New Year Specials'],\n",
    "    'Start_Date': ['2024-03-01', '2024-06-01', '2024-08-15', '2024-11-20', '2024-12-26'],\n",
    "    'End_Date': ['2024-03-31', '2024-06-30', '2024-09-15', '2024-12-31', '2025-01-10'],\n",
    "    'Budget_USD': [50000, 60000, 45000, 80000, 70000],\n",
    "    'Actual_Spend_USD': [48000, 58000, 43000, 79000, 69000],\n",
    "    'Impressions': [500000, 600000, 450000, 800000, 700000],\n",
    "    'Clicks': [50000, 60000, 45000, 80000, 70000],\n",
    "    'Conversions': [5000, 6000, 4500, 8000, 7000],\n",
    "    'ROI_Percentage': [20, 25, 15, 30, 28]\n",
    "}\n",
    "all_data.append(marketing_data)"
   ]
  },
  {
   "cell_type": "code",
   "execution_count": 20,
   "metadata": {},
   "outputs": [],
   "source": [
    "air_quality_data = {\n",
    "    'Station_ID': [1401, 1402, 1403, 1404, 1405],\n",
    "    'City': ['Los Angeles', 'New York', 'Chicago', 'Houston', 'Phoenix'],\n",
    "    'Date': ['2024-06-01', '2024-06-01', '2024-06-01', '2024-06-01', '2024-06-01'],\n",
    "    'PM2.5_Level': [55, 40, 35, 50, 60],\n",
    "    'PM10_Level': [70, 55, 45, 65, 75],\n",
    "    'NO2_Level': [30, 25, 20, 28, 32],\n",
    "    'O3_Level': [40, 35, 30, 38, 45],\n",
    "    'CO_Level': [0.9, 0.8, 0.7, 0.85, 1.0],\n",
    "    'Temperature_C': [25, 23, 22, 28, 30],\n",
    "    'Humidity_Percentage': [40, 45, 50, 35, 30]\n",
    "}\n",
    "all_data.append(air_quality_data)"
   ]
  },
  {
   "cell_type": "code",
   "execution_count": 21,
   "metadata": {},
   "outputs": [],
   "source": [
    "employee_performance_data = {\n",
    "    'Employee_ID': [1501, 1502, 1503, 1504, 1505],\n",
    "    'Name': ['Jack Williams', 'Olivia Brown', 'Sophia Johnson', 'Liam Jones', 'Emma Davis'],\n",
    "    'Age': [30, 45, 28, 35, 40],\n",
    "    'Gender': ['Male', 'Female', 'Female', 'Male', 'Female'],\n",
    "    'Department': ['Sales', 'Marketing', 'IT', 'HR', 'Finance'],\n",
    "    'Position': ['Sales Manager', 'Marketing Director', 'IT Specialist', 'HR Manager', 'Finance Analyst'],\n",
    "    'Years_at_Company': [5, 10, 3, 7, 8],\n",
    "    'Monthly_Salary_USD': [6000, 8000, 5000, 7000, 7500],\n",
    "    'Performance_Score': [85, 90, 80, 88, 92],\n",
    "    'Last_Promotion_Year': [2022, 2020, 2023, 2021, 2019],\n",
    "    'Projects_Completed': [12, 15, 10, 14, 18]\n",
    "}\n",
    "all_data.append(employee_performance_data)"
   ]
  },
  {
   "cell_type": "code",
   "execution_count": 22,
   "metadata": {},
   "outputs": [],
   "source": [
    "shipment_data = {\n",
    "    'Shipment_ID': [1601, 1602, 1603, 1604, 1605],\n",
    "    'Origin_City': ['New York', 'Los Angeles', 'Chicago', 'Houston', 'Phoenix'],\n",
    "    'Destination_City': ['London', 'Tokyo', 'Berlin', 'Sydney', 'Paris'],\n",
    "    'Shipping_Company': ['DHL', 'FedEx', 'UPS', 'TNT', 'Maersk'],\n",
    "    'Shipment_Weight_kg': [500, 300, 700, 400, 600],\n",
    "    'Shipment_Value_USD': [20000, 15000, 30000, 25000, 35000],\n",
    "    'Shipping_Cost_USD': [2000, 1500, 2500, 2200, 2700],\n",
    "    'Departure_Date': ['2024-06-01', '2024-06-02', '2024-06-03', '2024-06-04', '2024-06-05'],\n",
    "    'Arrival_Date': ['2024-06-10', '2024-06-12', '2024-06-13', '2024-06-14', '2024-06-15'],\n",
    "    'Status': ['Delivered', 'In Transit', 'Delivered', 'In Transit', 'Delivered']\n",
    "}\n",
    "all_data.append(shipment_data)"
   ]
  },
  {
   "cell_type": "code",
   "execution_count": 23,
   "metadata": {},
   "outputs": [],
   "source": [
    "purchase_history_data = {\n",
    "    'Customer_ID': [1701, 1702, 1703, 1704, 1705],\n",
    "    'Name': ['Alice Johnson', 'Brian Smith', 'Catherine Lee', 'David Brown', 'Eva Green'],\n",
    "    'Age': [34, 28, 45, 40, 35],\n",
    "    'Gender': ['Female', 'Male', 'Female', 'Male', 'Female'],\n",
    "    'Total_Purchases': [15, 22, 8, 30, 18],\n",
    "    'Total_Spent_USD': [1500, 2200, 800, 3000, 1800],\n",
    "    'Favorite_Category': ['Electronics', 'Clothing', 'Home Goods', 'Electronics', 'Beauty'],\n",
    "    'Average_Purchase_Value_USD': [100, 100, 100, 100, 100],\n",
    "    'Last_Purchase_Date': ['2024-06-01', '2024-06-02', '2024-06-03', '2024-06-04', '2024-06-05'],\n",
    "    'Loyalty_Member': [True, True, False, True, False]\n",
    "}\n",
    "all_data.append(purchase_history_data)"
   ]
  },
  {
   "cell_type": "code",
   "execution_count": 24,
   "metadata": {},
   "outputs": [
    {
     "data": {
      "text/plain": [
       "20"
      ]
     },
     "execution_count": 24,
     "metadata": {},
     "output_type": "execute_result"
    }
   ],
   "source": [
    "len(all_data)"
   ]
  },
  {
   "cell_type": "code",
   "execution_count": 25,
   "metadata": {},
   "outputs": [],
   "source": [
    "import openai\n",
    "\n",
    "client = openai.OpenAI()\n",
    "\n",
    "prompt = \"Rephrase into English: {}\"\n",
    "\n",
    "def call_gpt(question):\n",
    "    response = client.chat.completions.create(\n",
    "        model=\"gpt-3.5-turbo\",\n",
    "        messages=[{\"role\": \"user\", \"content\": prompt.format(question)}],\n",
    "        temperature=1.0,\n",
    "        n=1\n",
    "    )\n",
    "    return response.choices[0].message.content"
   ]
  },
  {
   "cell_type": "code",
   "execution_count": 118,
   "metadata": {},
   "outputs": [],
   "source": [
    "chart_type = [\"Bar\", \"Line\", \"Pie\", \"Scatter\", \"Area\"][2]\n",
    "operation = [\"Reference\", \"Highlight\", \"Trendline\", \"Statistic-min\", \"Statistic-max\", \"Statistic-mean\", \"Label\", \"Extension\", \"Creation\"][7]"
   ]
  },
  {
   "cell_type": "code",
   "execution_count": 119,
   "metadata": {},
   "outputs": [
    {
     "name": "stdout",
     "output_type": "stream",
     "text": [
      "Source-Data-Fields:  ['Athlete_ID', 'Name', 'Age', 'Gender', 'Sport', 'Event', 'Country', 'Personal_Best_Time', 'Medals_Won', 'Coach_Name']\n",
      "Chart-Type:  Pie\n",
      "X-Field:  Name\n",
      "X-Field Data:  ['Alice Smith', 'Bob Johnson', 'Charlie Brown', 'Daisy Miller', 'Ethan Davis']\n",
      "Y-Field:  ['Age']\n",
      "Operation:  Extension\n",
      "Question:  Help me expand Ethan Davis' data onto this pie chart.\n",
      "X-Value:  Ethan Davis\n",
      "Y-Value:  all\n",
      "Examples Size:  90\n"
     ]
    }
   ],
   "source": [
    "import sys\n",
    "\n",
    "data_json = random.choice(all_data)\n",
    "data_columns = list(data_json.keys())\n",
    "if chart_type == \"Pie\":\n",
    "    _fileds = random.choices(data_columns, k=2)\n",
    "else:\n",
    "    _num = random.choice(range(2, len(data_columns) + 1))\n",
    "    _fileds = random.choices(data_columns, k=_num)\n",
    "random.shuffle(_fileds)\n",
    "x_field = _fileds[0]\n",
    "y_field = _fileds[1:]\n",
    "\n",
    "print(\"Source-Data-Fields: \", data_columns)\n",
    "print(\"Chart-Type: \", chart_type)\n",
    "print(\"X-Field: \", x_field)\n",
    "print(\"X-Field Data: \", data_json[x_field])\n",
    "print(\"Y-Field: \", y_field)\n",
    "print(\"Operation: \", operation)\n",
    "sys.stdout.flush()\n",
    "\n",
    "_question = input(\"Input Question: \")\n",
    "question = call_gpt(_question).strip()\n",
    "x_value = input(\"X-Value\").strip()\n",
    "y_value = input(\"Y-Value\").strip()\n",
    "\n",
    "if x_value.startswith(\"[\") and x_value.endswith(\"]\"):\n",
    "    x_value = eval(x_value)\n",
    "elif x_value == \"null\":\n",
    "    x_value = None\n",
    "\n",
    "if y_value.startswith(\"[\") and y_value.endswith(\"]\"):\n",
    "    y_value = eval(y_value)\n",
    "elif y_value == \"null\":\n",
    "    y_value = None\n",
    "\n",
    "print(\"Question: \", question)\n",
    "print(\"X-Value: \", x_value)\n",
    "print(\"Y-Value: \", y_value)\n",
    "sys.stdout.flush()\n",
    "\n",
    "new_example = {\n",
    "    \"Question\": question,\n",
    "    \"Data-Info\": {\n",
    "      \"Data-Columns\": data_columns\n",
    "    },\n",
    "    \"Chart-Info\": {\n",
    "        \"Chart-Type\": chart_type,\n",
    "        \"X-Field\": x_field,\n",
    "        \"Y-Field\": y_field\n",
    "    },\n",
    "    \"Overlay\": {\n",
    "        \"Operation\": operation,\n",
    "        \"X-Value\": x_value,\n",
    "        \"Y-Value\": y_value\n",
    "    }\n",
    "}\n",
    "seed_examples.append(copy.deepcopy(new_example))\n",
    "print(\"Examples Size: \", len(seed_examples))\n",
    "json.dump(seed_examples, open(\"./seed_examples.json\", \"w\", encoding=\"utf-8\"), indent=2)"
   ]
  },
  {
   "cell_type": "code",
   "execution_count": 67,
   "metadata": {},
   "outputs": [],
   "source": [
    "seed_examples = json.load(open(\"./seed_examples.json\"))[:-1]"
   ]
  },
  {
   "cell_type": "markdown",
   "metadata": {},
   "source": [
    "### Fix duplicated fields and number value"
   ]
  },
  {
   "cell_type": "code",
   "execution_count": 1,
   "metadata": {},
   "outputs": [
    {
     "name": "stdout",
     "output_type": "stream",
     "text": [
      "{'Question': 'Add a vertical reference line for the data with the X-axis at 15.', 'Data-Info': {'Data-Fields': ['Department', 'Gender', 'Years_at_Company', 'Name', 'Position', 'Monthly_Salary_USD', 'Projects_Completed', 'Employee_ID', 'Last_Promotion_Year', 'Age', 'Performance_Score']}, 'Chart-Info': {'Chart-Type': 'Line', 'X-Field': 'Projects_Completed', 'Y-Field': ['Last_Promotion_Year', 'Gender', 'Projects_Completed', 'Employee_ID']}, 'Overlay': {'Operation': 'Reference', 'X-Value': 15, 'Y-Value': None}}\n",
      "{'Question': 'Highlight the sector with a temperature of 28 degrees.', 'Data-Info': {'Data-Fields': ['Temperature_C', 'NO2_Level', 'PM2.5_Level', 'City', 'Station_ID', 'Humidity_Percentage', 'O3_Level', 'Date', 'CO_Level', 'PM10_Level']}, 'Chart-Info': {'Chart-Type': 'Pie', 'X-Field': 'Temperature_C', 'Y-Field': ['Temperature_C']}, 'Overlay': {'Operation': 'Highlight', 'X-Value': 28, 'Y-Value': 'all'}}\n",
      "{'Question': 'Add the data for units sold of 300 to the x-axis in the graph.', 'Data-Info': {'Data-Fields': ['Units_Sold', 'Category', 'Sales_Date', 'Product_Name', 'Revenue_USD', 'Store_Location', 'Product_ID', 'Sales_Person', 'Price_USD']}, 'Chart-Info': {'Chart-Type': 'Bar', 'X-Field': 'Units_Sold', 'Y-Field': ['Sales_Date', 'Product_Name', 'Product_ID', 'Sales_Person', 'Price_USD']}, 'Overlay': {'Operation': 'Extension', 'X-Value': 300, 'Y-Value': 'all'}}\n",
      "{'Question': 'Include the data for the age of 50 in the pie chart.', 'Data-Info': {'Data-Fields': ['Gender', 'Patient_ID', 'Doctor', 'Name', 'Condition', 'Age', 'Treatment', 'Hospital', 'Visit_Date', 'Next_Visit_Date']}, 'Chart-Info': {'Chart-Type': 'Pie', 'X-Field': 'Age', 'Y-Field': ['Name']}, 'Overlay': {'Operation': 'Extension', 'X-Value': 50, 'Y-Value': 'all'}}\n",
      "{'Question': 'Emphasize the data for the number 4.', 'Data-Info': {'Data-Fields': ['Customer_Gender', 'Price_Per_Night', 'Payment_Method', 'Total_Cost', 'Customer_ID', 'Number_of_Nights', 'Check_Out_Date', 'Room_Type', 'Booking_ID', 'Customer_Age', 'Check_In_Date']}, 'Chart-Info': {'Chart-Type': 'Scatter', 'X-Field': 'Number_of_Nights', 'Y-Field': ['Price_Per_Night', 'Total_Cost', 'Customer_ID', 'Room_Type', 'Booking_ID']}, 'Overlay': {'Operation': 'Highlight', 'X-Value': 4, 'Y-Value': 'all'}}\n",
      "{'Question': 'The area with a highlight value of 20,000', 'Data-Info': {'Data-Fields': ['Destination_City', 'Shipping_Company', 'Shipment_Weight_kg', 'Departure_Date', 'Shipping_Cost_USD', 'Origin_City', 'Shipment_ID', 'Arrival_Date', 'Shipment_Value_USD', 'Status']}, 'Chart-Info': {'Chart-Type': 'Pie', 'X-Field': 'Shipment_Value_USD', 'Y-Field': ['Shipment_ID']}, 'Overlay': {'Operation': 'Highlight', 'X-Value': 20000, 'Y-Value': 'all'}}\n"
     ]
    }
   ],
   "source": [
    "import json\n",
    "\n",
    "seed_examples = json.load(open(\"./seed_examples.json\"))\n",
    "\n",
    "for example in seed_examples:\n",
    "    example[\"Data-Info\"][\"Data-Fields\"] = list(set(example[\"Data-Info\"][\"Data-Columns\"]))\n",
    "    del example[\"Data-Info\"][\"Data-Columns\"]\n",
    "    example[\"Chart-Info\"][\"Y-Field\"] = list(set(example[\"Chart-Info\"][\"Y-Field\"]))\n",
    "    x_value = example[\"Overlay\"][\"X-Value\"]\n",
    "    if x_value is not None and isinstance(x_value, str) and x_value.isdigit():\n",
    "        example[\"Overlay\"][\"X-Value\"] = eval(x_value)\n",
    "        print(example)\n",
    "fixed_seed_examples = json.dump(seed_examples, open(\"./fixed_seed_examples.json\", \"w\", encoding=\"utf-8\"), indent=2)\n"
   ]
  },
  {
   "cell_type": "code",
   "execution_count": null,
   "metadata": {},
   "outputs": [],
   "source": []
  }
 ],
 "metadata": {
  "kernelspec": {
   "display_name": "havis",
   "language": "python",
   "name": "python3"
  },
  "language_info": {
   "codemirror_mode": {
    "name": "ipython",
    "version": 3
   },
   "file_extension": ".py",
   "mimetype": "text/x-python",
   "name": "python",
   "nbconvert_exporter": "python",
   "pygments_lexer": "ipython3",
   "version": "3.10.14"
  }
 },
 "nbformat": 4,
 "nbformat_minor": 2
}
